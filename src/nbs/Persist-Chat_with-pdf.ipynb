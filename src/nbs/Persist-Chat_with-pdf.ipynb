{
 "cells": [
  {
   "cell_type": "code",
   "execution_count": null,
   "id": "538748ea-e4e8-4f2a-a36e-4d92f39a385e",
   "metadata": {},
   "outputs": [],
   "source": [
    "%pip install llama-index llama-index-vector-stores-upstash upstash-vector"
   ]
  },
  {
   "cell_type": "code",
   "execution_count": null,
   "id": "2ce7c6f2-4a60-4466-8d35-7ce8bb05beb3",
   "metadata": {},
   "outputs": [],
   "source": [
    "import setup\n",
    "setup.init_django()"
   ]
  },
  {
   "cell_type": "code",
   "execution_count": null,
   "id": "9c15d4cf-6b5c-44a6-9a6b-356adc7c0a6b",
   "metadata": {},
   "outputs": [],
   "source": [
    "django_pdf = \"data/django.pdf\""
   ]
  },
  {
   "cell_type": "code",
   "execution_count": null,
   "id": "1657f713-fca1-49d1-9cb6-90b9a93c2390",
   "metadata": {},
   "outputs": [],
   "source": [
    "from llama_index.core import VectorStoreIndex, SimpleDirectoryReader, StorageContext\n",
    "from llama_index.vector_stores.upstash import UpstashVectorStore #changed from the llamaINdex DOcs"
   ]
  },
  {
   "cell_type": "code",
   "execution_count": null,
   "id": "a7d5761f-2c9c-41bb-aea1-b44b4b7a5693",
   "metadata": {},
   "outputs": [],
   "source": [
    "reader = SimpleDirectoryReader(input_files=[django_pdf])"
   ]
  },
  {
   "cell_type": "code",
   "execution_count": null,
   "id": "4b669eb5-a8d5-4b95-9939-ed0699199c26",
   "metadata": {},
   "outputs": [],
   "source": [
    "import helpers\n",
    "import openai\n",
    "openai.api_key = helpers.config(\"OPENAI_API_KEY\", default=None)"
   ]
  },
  {
   "cell_type": "code",
   "execution_count": null,
   "id": "d39af6f6-1036-47fd-846d-610494fa1c1f",
   "metadata": {},
   "outputs": [],
   "source": [
    "url = helpers.config(\"UPSTASH_VECTOR_URL\", default = None)\n",
    "token = helpers.config(\"UPSTASH_VECTOR_TOKEN\", default = None)\n",
    "url"
   ]
  },
  {
   "cell_type": "code",
   "execution_count": null,
   "id": "a6d368f2-c582-427f-ad32-bf647399f4af",
   "metadata": {},
   "outputs": [],
   "source": [
    "data = reader.load_data()\n"
   ]
  },
  {
   "cell_type": "code",
   "execution_count": null,
   "id": "0da013ff-1d4f-44c0-913a-104cea2bda89",
   "metadata": {},
   "outputs": [],
   "source": [
    "import httpx\n",
    "\n",
    "timeout = httpx.Timeout(600.0, connect = 600.0)\n",
    "client = httpx.Client(timeout=timeout)"
   ]
  },
  {
   "cell_type": "code",
   "execution_count": null,
   "id": "6941be84-fa67-4bbb-92a8-8b6c1e998f75",
   "metadata": {},
   "outputs": [],
   "source": [
    "from upstash_vector import Index\n",
    "\n",
    "upstash_index = Index(\n",
    "            url=url,\n",
    "            token=token,\n",
    "            retries =5,\n",
    "            retry_interval =0.2\n",
    "             )\n",
    "upstash_index._client = client"
   ]
  },
  {
   "cell_type": "code",
   "execution_count": null,
   "id": "ea40c5f6-1fe4-4ae8-999d-8f3709fbe6eb",
   "metadata": {},
   "outputs": [],
   "source": [
    "vector_store = UpstashVectorStore(\n",
    "    url = url,\n",
    "    token=token,\n",
    ")\n",
    "\n",
    "vector_store._index = upstash_index"
   ]
  },
  {
   "cell_type": "code",
   "execution_count": null,
   "id": "fd8dea08-59e5-4e7d-9d62-94be6217e32b",
   "metadata": {},
   "outputs": [],
   "source": [
    "storage_context = StorageContext.from_defaults(vector_store=vector_store)"
   ]
  },
  {
   "cell_type": "code",
   "execution_count": null,
   "id": "67f9c3ca-8039-40ab-8a3e-e81cdfb2b3d0",
   "metadata": {},
   "outputs": [],
   "source": [
    "index = VectorStoreIndex.from_documents(data, storage_context, insert_batch_size= 500)"
   ]
  },
  {
   "cell_type": "code",
   "execution_count": null,
   "id": "6f134275-239d-4b3d-8193-f144adfd4537",
   "metadata": {},
   "outputs": [],
   "source": [
    "index_persist = VectorStoreIndex.from_vector(vector_store= vector_store)"
   ]
  },
  {
   "cell_type": "code",
   "execution_count": null,
   "id": "b3c34424-024c-4ffb-a0a4-549edbf07962",
   "metadata": {},
   "outputs": [],
   "source": [
    "query_engine = index_persist.as_query_engine()"
   ]
  },
  {
   "cell_type": "code",
   "execution_count": null,
   "id": "bf4896da-982b-4b07-9d5c-e68a5fe8d2b4",
   "metadata": {},
   "outputs": [],
   "source": [
    "r = query_engine.query(\"What is prefetch_related? Show an example usage with a QuerySet\")"
   ]
  },
  {
   "cell_type": "code",
   "execution_count": null,
   "id": "8c2d804c-2854-4f4f-be8f-51695e0ab9ee",
   "metadata": {},
   "outputs": [],
   "source": [
    "print(r.response)"
   ]
  },
  {
   "cell_type": "code",
   "execution_count": null,
   "id": "0b55056a-0a9c-41b7-90fe-7ab446157cdb",
   "metadata": {},
   "outputs": [],
   "source": []
  }
 ],
 "metadata": {
  "kernelspec": {
   "display_name": "Python 3 (ipykernel)",
   "language": "python",
   "name": "python3"
  },
  "language_info": {
   "codemirror_mode": {
    "name": "ipython",
    "version": 3
   },
   "file_extension": ".py",
   "mimetype": "text/x-python",
   "name": "python",
   "nbconvert_exporter": "python",
   "pygments_lexer": "ipython3",
   "version": "3.12.3"
  }
 },
 "nbformat": 4,
 "nbformat_minor": 5
}
