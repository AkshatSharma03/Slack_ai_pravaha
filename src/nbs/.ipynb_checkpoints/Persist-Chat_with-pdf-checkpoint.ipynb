{
 "cells": [
  {
   "cell_type": "code",
   "execution_count": 2,
   "id": "538748ea-e4e8-4f2a-a36e-4d92f39a385e",
   "metadata": {},
   "outputs": [
    {
     "name": "stdout",
     "output_type": "stream",
     "text": [
      "Requirement already satisfied: llama-index in /Users/akshatsharma/Pravaha/venv/lib/python3.12/site-packages (0.11.20)\n",
      "Collecting llama-index-vector-stores-upstash\n",
      "  Downloading llama_index_vector_stores_upstash-0.2.0-py3-none-any.whl.metadata (713 bytes)\n",
      "Collecting upstash-vector\n",
      "  Downloading upstash_vector-0.6.0-py3-none-any.whl.metadata (11 kB)\n",
      "Requirement already satisfied: llama-index-agent-openai<0.4.0,>=0.3.4 in /Users/akshatsharma/Pravaha/venv/lib/python3.12/site-packages (from llama-index) (0.3.4)\n",
      "Requirement already satisfied: llama-index-cli<0.4.0,>=0.3.1 in /Users/akshatsharma/Pravaha/venv/lib/python3.12/site-packages (from llama-index) (0.3.1)\n",
      "Requirement already satisfied: llama-index-core<0.12.0,>=0.11.20 in /Users/akshatsharma/Pravaha/venv/lib/python3.12/site-packages (from llama-index) (0.11.20)\n",
      "Requirement already satisfied: llama-index-embeddings-openai<0.3.0,>=0.2.4 in /Users/akshatsharma/Pravaha/venv/lib/python3.12/site-packages (from llama-index) (0.2.5)\n",
      "Requirement already satisfied: llama-index-indices-managed-llama-cloud>=0.3.0 in /Users/akshatsharma/Pravaha/venv/lib/python3.12/site-packages (from llama-index) (0.4.0)\n",
      "Requirement already satisfied: llama-index-legacy<0.10.0,>=0.9.48 in /Users/akshatsharma/Pravaha/venv/lib/python3.12/site-packages (from llama-index) (0.9.48.post3)\n",
      "Requirement already satisfied: llama-index-llms-openai<0.3.0,>=0.2.10 in /Users/akshatsharma/Pravaha/venv/lib/python3.12/site-packages (from llama-index) (0.2.16)\n",
      "Requirement already satisfied: llama-index-multi-modal-llms-openai<0.3.0,>=0.2.0 in /Users/akshatsharma/Pravaha/venv/lib/python3.12/site-packages (from llama-index) (0.2.3)\n",
      "Requirement already satisfied: llama-index-program-openai<0.3.0,>=0.2.0 in /Users/akshatsharma/Pravaha/venv/lib/python3.12/site-packages (from llama-index) (0.2.0)\n",
      "Requirement already satisfied: llama-index-question-gen-openai<0.3.0,>=0.2.0 in /Users/akshatsharma/Pravaha/venv/lib/python3.12/site-packages (from llama-index) (0.2.0)\n",
      "Requirement already satisfied: llama-index-readers-file<0.3.0,>=0.2.0 in /Users/akshatsharma/Pravaha/venv/lib/python3.12/site-packages (from llama-index) (0.2.2)\n",
      "Requirement already satisfied: llama-index-readers-llama-parse>=0.3.0 in /Users/akshatsharma/Pravaha/venv/lib/python3.12/site-packages (from llama-index) (0.3.0)\n",
      "Requirement already satisfied: nltk>3.8.1 in /Users/akshatsharma/Pravaha/venv/lib/python3.12/site-packages (from llama-index) (3.9.1)\n",
      "  Downloading upstash_vector-0.4.0-py3-none-any.whl.metadata (10 kB)\n",
      "Requirement already satisfied: httpx<0.28,>=0.24.0 in /Users/akshatsharma/Pravaha/venv/lib/python3.12/site-packages (from upstash-vector) (0.27.2)\n",
      "Requirement already satisfied: anyio in /Users/akshatsharma/Pravaha/venv/lib/python3.12/site-packages (from httpx<0.28,>=0.24.0->upstash-vector) (4.6.2.post1)\n",
      "Requirement already satisfied: certifi in /Users/akshatsharma/Pravaha/venv/lib/python3.12/site-packages (from httpx<0.28,>=0.24.0->upstash-vector) (2024.8.30)\n",
      "Requirement already satisfied: httpcore==1.* in /Users/akshatsharma/Pravaha/venv/lib/python3.12/site-packages (from httpx<0.28,>=0.24.0->upstash-vector) (1.0.6)\n",
      "Requirement already satisfied: idna in /Users/akshatsharma/Pravaha/venv/lib/python3.12/site-packages (from httpx<0.28,>=0.24.0->upstash-vector) (3.10)\n",
      "Requirement already satisfied: sniffio in /Users/akshatsharma/Pravaha/venv/lib/python3.12/site-packages (from httpx<0.28,>=0.24.0->upstash-vector) (1.3.1)\n",
      "Requirement already satisfied: h11<0.15,>=0.13 in /Users/akshatsharma/Pravaha/venv/lib/python3.12/site-packages (from httpcore==1.*->httpx<0.28,>=0.24.0->upstash-vector) (0.14.0)\n",
      "Requirement already satisfied: openai>=1.14.0 in /Users/akshatsharma/Pravaha/venv/lib/python3.12/site-packages (from llama-index-agent-openai<0.4.0,>=0.3.4->llama-index) (1.52.2)\n",
      "Requirement already satisfied: PyYAML>=6.0.1 in /Users/akshatsharma/Pravaha/venv/lib/python3.12/site-packages (from llama-index-core<0.12.0,>=0.11.20->llama-index) (6.0.2)\n",
      "Requirement already satisfied: SQLAlchemy>=1.4.49 in /Users/akshatsharma/Pravaha/venv/lib/python3.12/site-packages (from SQLAlchemy[asyncio]>=1.4.49->llama-index-core<0.12.0,>=0.11.20->llama-index) (2.0.36)\n",
      "Requirement already satisfied: aiohttp<4.0.0,>=3.8.6 in /Users/akshatsharma/Pravaha/venv/lib/python3.12/site-packages (from llama-index-core<0.12.0,>=0.11.20->llama-index) (3.10.10)\n",
      "Requirement already satisfied: dataclasses-json in /Users/akshatsharma/Pravaha/venv/lib/python3.12/site-packages (from llama-index-core<0.12.0,>=0.11.20->llama-index) (0.6.7)\n",
      "Requirement already satisfied: deprecated>=1.2.9.3 in /Users/akshatsharma/Pravaha/venv/lib/python3.12/site-packages (from llama-index-core<0.12.0,>=0.11.20->llama-index) (1.2.14)\n",
      "Requirement already satisfied: dirtyjson<2.0.0,>=1.0.8 in /Users/akshatsharma/Pravaha/venv/lib/python3.12/site-packages (from llama-index-core<0.12.0,>=0.11.20->llama-index) (1.0.8)\n",
      "Requirement already satisfied: fsspec>=2023.5.0 in /Users/akshatsharma/Pravaha/venv/lib/python3.12/site-packages (from llama-index-core<0.12.0,>=0.11.20->llama-index) (2024.10.0)\n",
      "Requirement already satisfied: nest-asyncio<2.0.0,>=1.5.8 in /Users/akshatsharma/Pravaha/venv/lib/python3.12/site-packages (from llama-index-core<0.12.0,>=0.11.20->llama-index) (1.6.0)\n",
      "Requirement already satisfied: networkx>=3.0 in /Users/akshatsharma/Pravaha/venv/lib/python3.12/site-packages (from llama-index-core<0.12.0,>=0.11.20->llama-index) (3.4.2)\n",
      "Requirement already satisfied: numpy<2.0.0 in /Users/akshatsharma/Pravaha/venv/lib/python3.12/site-packages (from llama-index-core<0.12.0,>=0.11.20->llama-index) (1.26.4)\n",
      "Requirement already satisfied: pillow>=9.0.0 in /Users/akshatsharma/Pravaha/venv/lib/python3.12/site-packages (from llama-index-core<0.12.0,>=0.11.20->llama-index) (11.0.0)\n",
      "Requirement already satisfied: pydantic<3.0.0,>=2.7.0 in /Users/akshatsharma/Pravaha/venv/lib/python3.12/site-packages (from llama-index-core<0.12.0,>=0.11.20->llama-index) (2.9.2)\n",
      "Requirement already satisfied: requests>=2.31.0 in /Users/akshatsharma/Pravaha/venv/lib/python3.12/site-packages (from llama-index-core<0.12.0,>=0.11.20->llama-index) (2.32.3)\n",
      "Requirement already satisfied: tenacity!=8.4.0,<9.0.0,>=8.2.0 in /Users/akshatsharma/Pravaha/venv/lib/python3.12/site-packages (from llama-index-core<0.12.0,>=0.11.20->llama-index) (8.5.0)\n",
      "Requirement already satisfied: tiktoken>=0.3.3 in /Users/akshatsharma/Pravaha/venv/lib/python3.12/site-packages (from llama-index-core<0.12.0,>=0.11.20->llama-index) (0.8.0)\n",
      "Requirement already satisfied: tqdm<5.0.0,>=4.66.1 in /Users/akshatsharma/Pravaha/venv/lib/python3.12/site-packages (from llama-index-core<0.12.0,>=0.11.20->llama-index) (4.66.6)\n",
      "Requirement already satisfied: typing-extensions>=4.5.0 in /Users/akshatsharma/Pravaha/venv/lib/python3.12/site-packages (from llama-index-core<0.12.0,>=0.11.20->llama-index) (4.12.2)\n",
      "Requirement already satisfied: typing-inspect>=0.8.0 in /Users/akshatsharma/Pravaha/venv/lib/python3.12/site-packages (from llama-index-core<0.12.0,>=0.11.20->llama-index) (0.9.0)\n",
      "Requirement already satisfied: wrapt in /Users/akshatsharma/Pravaha/venv/lib/python3.12/site-packages (from llama-index-core<0.12.0,>=0.11.20->llama-index) (1.16.0)\n",
      "Requirement already satisfied: llama-cloud>=0.0.11 in /Users/akshatsharma/Pravaha/venv/lib/python3.12/site-packages (from llama-index-indices-managed-llama-cloud>=0.3.0->llama-index) (0.1.4)\n",
      "Requirement already satisfied: pandas in /Users/akshatsharma/Pravaha/venv/lib/python3.12/site-packages (from llama-index-legacy<0.10.0,>=0.9.48->llama-index) (2.2.3)\n",
      "Requirement already satisfied: beautifulsoup4<5.0.0,>=4.12.3 in /Users/akshatsharma/Pravaha/venv/lib/python3.12/site-packages (from llama-index-readers-file<0.3.0,>=0.2.0->llama-index) (4.12.3)\n",
      "Requirement already satisfied: pypdf<5.0.0,>=4.0.1 in /Users/akshatsharma/Pravaha/venv/lib/python3.12/site-packages (from llama-index-readers-file<0.3.0,>=0.2.0->llama-index) (4.3.1)\n",
      "Requirement already satisfied: striprtf<0.0.27,>=0.0.26 in /Users/akshatsharma/Pravaha/venv/lib/python3.12/site-packages (from llama-index-readers-file<0.3.0,>=0.2.0->llama-index) (0.0.26)\n",
      "Requirement already satisfied: llama-parse>=0.5.0 in /Users/akshatsharma/Pravaha/venv/lib/python3.12/site-packages (from llama-index-readers-llama-parse>=0.3.0->llama-index) (0.5.12)\n",
      "Requirement already satisfied: click in /Users/akshatsharma/Pravaha/venv/lib/python3.12/site-packages (from nltk>3.8.1->llama-index) (8.1.7)\n",
      "Requirement already satisfied: joblib in /Users/akshatsharma/Pravaha/venv/lib/python3.12/site-packages (from nltk>3.8.1->llama-index) (1.4.2)\n",
      "Requirement already satisfied: regex>=2021.8.3 in /Users/akshatsharma/Pravaha/venv/lib/python3.12/site-packages (from nltk>3.8.1->llama-index) (2024.9.11)\n",
      "Requirement already satisfied: aiohappyeyeballs>=2.3.0 in /Users/akshatsharma/Pravaha/venv/lib/python3.12/site-packages (from aiohttp<4.0.0,>=3.8.6->llama-index-core<0.12.0,>=0.11.20->llama-index) (2.4.3)\n",
      "Requirement already satisfied: aiosignal>=1.1.2 in /Users/akshatsharma/Pravaha/venv/lib/python3.12/site-packages (from aiohttp<4.0.0,>=3.8.6->llama-index-core<0.12.0,>=0.11.20->llama-index) (1.3.1)\n",
      "Requirement already satisfied: attrs>=17.3.0 in /Users/akshatsharma/Pravaha/venv/lib/python3.12/site-packages (from aiohttp<4.0.0,>=3.8.6->llama-index-core<0.12.0,>=0.11.20->llama-index) (24.2.0)\n",
      "Requirement already satisfied: frozenlist>=1.1.1 in /Users/akshatsharma/Pravaha/venv/lib/python3.12/site-packages (from aiohttp<4.0.0,>=3.8.6->llama-index-core<0.12.0,>=0.11.20->llama-index) (1.5.0)\n",
      "Requirement already satisfied: multidict<7.0,>=4.5 in /Users/akshatsharma/Pravaha/venv/lib/python3.12/site-packages (from aiohttp<4.0.0,>=3.8.6->llama-index-core<0.12.0,>=0.11.20->llama-index) (6.1.0)\n",
      "Requirement already satisfied: yarl<2.0,>=1.12.0 in /Users/akshatsharma/Pravaha/venv/lib/python3.12/site-packages (from aiohttp<4.0.0,>=3.8.6->llama-index-core<0.12.0,>=0.11.20->llama-index) (1.17.0)\n",
      "Requirement already satisfied: soupsieve>1.2 in /Users/akshatsharma/Pravaha/venv/lib/python3.12/site-packages (from beautifulsoup4<5.0.0,>=4.12.3->llama-index-readers-file<0.3.0,>=0.2.0->llama-index) (2.6)\n",
      "Requirement already satisfied: distro<2,>=1.7.0 in /Users/akshatsharma/Pravaha/venv/lib/python3.12/site-packages (from openai>=1.14.0->llama-index-agent-openai<0.4.0,>=0.3.4->llama-index) (1.9.0)\n",
      "Requirement already satisfied: jiter<1,>=0.4.0 in /Users/akshatsharma/Pravaha/venv/lib/python3.12/site-packages (from openai>=1.14.0->llama-index-agent-openai<0.4.0,>=0.3.4->llama-index) (0.6.1)\n",
      "Requirement already satisfied: annotated-types>=0.6.0 in /Users/akshatsharma/Pravaha/venv/lib/python3.12/site-packages (from pydantic<3.0.0,>=2.7.0->llama-index-core<0.12.0,>=0.11.20->llama-index) (0.7.0)\n",
      "Requirement already satisfied: pydantic-core==2.23.4 in /Users/akshatsharma/Pravaha/venv/lib/python3.12/site-packages (from pydantic<3.0.0,>=2.7.0->llama-index-core<0.12.0,>=0.11.20->llama-index) (2.23.4)\n",
      "Requirement already satisfied: charset-normalizer<4,>=2 in /Users/akshatsharma/Pravaha/venv/lib/python3.12/site-packages (from requests>=2.31.0->llama-index-core<0.12.0,>=0.11.20->llama-index) (3.4.0)\n",
      "Requirement already satisfied: urllib3<3,>=1.21.1 in /Users/akshatsharma/Pravaha/venv/lib/python3.12/site-packages (from requests>=2.31.0->llama-index-core<0.12.0,>=0.11.20->llama-index) (2.2.3)\n",
      "Requirement already satisfied: greenlet!=0.4.17 in /Users/akshatsharma/Pravaha/venv/lib/python3.12/site-packages (from SQLAlchemy[asyncio]>=1.4.49->llama-index-core<0.12.0,>=0.11.20->llama-index) (3.1.1)\n",
      "Requirement already satisfied: mypy-extensions>=0.3.0 in /Users/akshatsharma/Pravaha/venv/lib/python3.12/site-packages (from typing-inspect>=0.8.0->llama-index-core<0.12.0,>=0.11.20->llama-index) (1.0.0)\n",
      "Requirement already satisfied: marshmallow<4.0.0,>=3.18.0 in /Users/akshatsharma/Pravaha/venv/lib/python3.12/site-packages (from dataclasses-json->llama-index-core<0.12.0,>=0.11.20->llama-index) (3.23.0)\n",
      "Requirement already satisfied: python-dateutil>=2.8.2 in /Users/akshatsharma/Pravaha/venv/lib/python3.12/site-packages (from pandas->llama-index-legacy<0.10.0,>=0.9.48->llama-index) (2.9.0.post0)\n",
      "Requirement already satisfied: pytz>=2020.1 in /Users/akshatsharma/Pravaha/venv/lib/python3.12/site-packages (from pandas->llama-index-legacy<0.10.0,>=0.9.48->llama-index) (2024.2)\n",
      "Requirement already satisfied: tzdata>=2022.7 in /Users/akshatsharma/Pravaha/venv/lib/python3.12/site-packages (from pandas->llama-index-legacy<0.10.0,>=0.9.48->llama-index) (2024.2)\n",
      "Requirement already satisfied: packaging>=17.0 in /Users/akshatsharma/Pravaha/venv/lib/python3.12/site-packages (from marshmallow<4.0.0,>=3.18.0->dataclasses-json->llama-index-core<0.12.0,>=0.11.20->llama-index) (24.1)\n",
      "Requirement already satisfied: six>=1.5 in /Users/akshatsharma/Pravaha/venv/lib/python3.12/site-packages (from python-dateutil>=2.8.2->pandas->llama-index-legacy<0.10.0,>=0.9.48->llama-index) (1.16.0)\n",
      "Requirement already satisfied: propcache>=0.2.0 in /Users/akshatsharma/Pravaha/venv/lib/python3.12/site-packages (from yarl<2.0,>=1.12.0->aiohttp<4.0.0,>=3.8.6->llama-index-core<0.12.0,>=0.11.20->llama-index) (0.2.0)\n",
      "Downloading llama_index_vector_stores_upstash-0.2.0-py3-none-any.whl (3.9 kB)\n",
      "Downloading upstash_vector-0.4.0-py3-none-any.whl (12 kB)\n",
      "Installing collected packages: upstash-vector, llama-index-vector-stores-upstash\n",
      "Successfully installed llama-index-vector-stores-upstash-0.2.0 upstash-vector-0.4.0\n",
      "Note: you may need to restart the kernel to use updated packages.\n"
     ]
    }
   ],
   "source": [
    "%pip install llama-index llama-index-vector-stores-upstash upstash-vector"
   ]
  },
  {
   "cell_type": "code",
   "execution_count": 3,
   "id": "2ce7c6f2-4a60-4466-8d35-7ce8bb05beb3",
   "metadata": {},
   "outputs": [],
   "source": [
    "import setup\n",
    "setup.init_django()"
   ]
  },
  {
   "cell_type": "code",
   "execution_count": 4,
   "id": "9c15d4cf-6b5c-44a6-9a6b-356adc7c0a6b",
   "metadata": {},
   "outputs": [],
   "source": [
    "django_pdf = \"data/django.pdf\""
   ]
  },
  {
   "cell_type": "code",
   "execution_count": 5,
   "id": "1657f713-fca1-49d1-9cb6-90b9a93c2390",
   "metadata": {},
   "outputs": [],
   "source": [
    "from llama_index.core import VectorStoreIndex, SimpleDirectoryReader, StorageContext\n",
    "from llama_index.vector_stores.upstash import UpstashVectorStore #changed from the llamaINdex DOcs"
   ]
  },
  {
   "cell_type": "code",
   "execution_count": 6,
   "id": "a7d5761f-2c9c-41bb-aea1-b44b4b7a5693",
   "metadata": {},
   "outputs": [],
   "source": [
    "reader = SimpleDirectoryReader(input_files=[django_pdf])"
   ]
  },
  {
   "cell_type": "code",
   "execution_count": 7,
   "id": "4b669eb5-a8d5-4b95-9939-ed0699199c26",
   "metadata": {},
   "outputs": [],
   "source": [
    "import helpers\n",
    "import openai\n",
    "openai.api_key = helpers.config(\"OPENAI_API_KEY\", default=None)"
   ]
  },
  {
   "cell_type": "code",
   "execution_count": 8,
   "id": "d39af6f6-1036-47fd-846d-610494fa1c1f",
   "metadata": {},
   "outputs": [
    {
     "data": {
      "text/plain": [
       "'https://great-bluejay-97091-us1-vector.upstash.io'"
      ]
     },
     "execution_count": 8,
     "metadata": {},
     "output_type": "execute_result"
    }
   ],
   "source": [
    "url = helpers.config(\"UPSTASH_VECTOR_URL\", default = None)\n",
    "token = helpers.config(\"UPSTASH_VECTOR_TOKEN\", default = None)\n",
    "url"
   ]
  },
  {
   "cell_type": "code",
   "execution_count": 9,
   "id": "a6d368f2-c582-427f-ad32-bf647399f4af",
   "metadata": {},
   "outputs": [],
   "source": [
    "data = reader.load_data()\n"
   ]
  },
  {
   "cell_type": "code",
   "execution_count": 10,
   "id": "0da013ff-1d4f-44c0-913a-104cea2bda89",
   "metadata": {},
   "outputs": [
    {
     "ename": "TypeError",
     "evalue": "Timeout.__init__() got an unexpected keyword argument 'coonect'",
     "output_type": "error",
     "traceback": [
      "\u001b[0;31m---------------------------------------------------------------------------\u001b[0m",
      "\u001b[0;31mTypeError\u001b[0m                                 Traceback (most recent call last)",
      "Cell \u001b[0;32mIn[10], line 3\u001b[0m\n\u001b[1;32m      1\u001b[0m \u001b[38;5;28;01mimport\u001b[39;00m \u001b[38;5;21;01mhttpx\u001b[39;00m\n\u001b[0;32m----> 3\u001b[0m timeout \u001b[38;5;241m=\u001b[39m \u001b[43mhttpx\u001b[49m\u001b[38;5;241;43m.\u001b[39;49m\u001b[43mTimeout\u001b[49m\u001b[43m(\u001b[49m\u001b[38;5;241;43m600.0\u001b[39;49m\u001b[43m,\u001b[49m\u001b[43m \u001b[49m\u001b[43mcoonect\u001b[49m\u001b[43m \u001b[49m\u001b[38;5;241;43m=\u001b[39;49m\u001b[43m \u001b[49m\u001b[38;5;241;43m600.0\u001b[39;49m\u001b[43m)\u001b[49m\n\u001b[1;32m      4\u001b[0m client \u001b[38;5;241m=\u001b[39m httpx\u001b[38;5;241m.\u001b[39mClient(timeout\u001b[38;5;241m=\u001b[39mtimeout)\n",
      "\u001b[0;31mTypeError\u001b[0m: Timeout.__init__() got an unexpected keyword argument 'coonect'"
     ]
    }
   ],
   "source": [
    "import httpx\n",
    "\n",
    "timeout = httpx.Timeout(600.0, connect = 600.0)\n",
    "client = httpx.Client(timeout=timeout)"
   ]
  },
  {
   "cell_type": "code",
   "execution_count": null,
   "id": "6941be84-fa67-4bbb-92a8-8b6c1e998f75",
   "metadata": {},
   "outputs": [],
   "source": [
    "from upstash_vector import Index\n",
    "\n",
    "upstash_index = Index(\n",
    "            url=url,\n",
    "            token=token,\n",
    "            retries =5,\n",
    "            retry_interval =0.2\n",
    "             )\n",
    "upstash_index._client = client"
   ]
  },
  {
   "cell_type": "code",
   "execution_count": null,
   "id": "ea40c5f6-1fe4-4ae8-999d-8f3709fbe6eb",
   "metadata": {},
   "outputs": [],
   "source": [
    "vector_store = UpstashVectorStore(\n",
    "    url = url,\n",
    "    token=token,\n",
    ")\n",
    "\n",
    "vector_store._index = upstash_index"
   ]
  },
  {
   "cell_type": "code",
   "execution_count": null,
   "id": "fd8dea08-59e5-4e7d-9d62-94be6217e32b",
   "metadata": {},
   "outputs": [],
   "source": [
    "storage_context = StorageContext.from_defaults(vector_store=vector=store)"
   ]
  },
  {
   "cell_type": "code",
   "execution_count": null,
   "id": "67f9c3ca-8039-40ab-8a3e-e81cdfb2b3d0",
   "metadata": {},
   "outputs": [],
   "source": [
    "index = VectorStoreIndex.from_documents(data, storage_context, insert_batch_size= 500)"
   ]
  },
  {
   "cell_type": "code",
   "execution_count": null,
   "id": "6f134275-239d-4b3d-8193-f144adfd4537",
   "metadata": {},
   "outputs": [],
   "source": [
    "index_persist = VectorStoreIndex.from_vector(vector_store= vector_store)"
   ]
  },
  {
   "cell_type": "code",
   "execution_count": null,
   "id": "b3c34424-024c-4ffb-a0a4-549edbf07962",
   "metadata": {},
   "outputs": [],
   "source": [
    "query_engine = index_persist.as_query_engine()"
   ]
  },
  {
   "cell_type": "code",
   "execution_count": null,
   "id": "bf4896da-982b-4b07-9d5c-e68a5fe8d2b4",
   "metadata": {},
   "outputs": [],
   "source": [
    "r = query_engine.query(\"What is prefetch_related? Show an example usage with a QuerySet\")"
   ]
  },
  {
   "cell_type": "code",
   "execution_count": null,
   "id": "8c2d804c-2854-4f4f-be8f-51695e0ab9ee",
   "metadata": {},
   "outputs": [],
   "source": [
    "print(r.response)"
   ]
  },
  {
   "cell_type": "code",
   "execution_count": null,
   "id": "0b55056a-0a9c-41b7-90fe-7ab446157cdb",
   "metadata": {},
   "outputs": [],
   "source": []
  }
 ],
 "metadata": {
  "kernelspec": {
   "display_name": "Python 3 (ipykernel)",
   "language": "python",
   "name": "python3"
  },
  "language_info": {
   "codemirror_mode": {
    "name": "ipython",
    "version": 3
   },
   "file_extension": ".py",
   "mimetype": "text/x-python",
   "name": "python",
   "nbconvert_exporter": "python",
   "pygments_lexer": "ipython3",
   "version": "3.12.3"
  }
 },
 "nbformat": 4,
 "nbformat_minor": 5
}
