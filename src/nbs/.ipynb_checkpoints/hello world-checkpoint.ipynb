{
 "cells": [
  {
   "cell_type": "code",
   "execution_count": 1,
   "id": "538748ea-e4e8-4f2a-a36e-4d92f39a385e",
   "metadata": {},
   "outputs": [
    {
     "name": "stdout",
     "output_type": "stream",
     "text": [
      "/Users/akshatsharma/Pravaha/src/nbs\n"
     ]
    }
   ],
   "source": [
    "!pwd"
   ]
  },
  {
   "cell_type": "code",
   "execution_count": 2,
   "id": "2ce7c6f2-4a60-4466-8d35-7ce8bb05beb3",
   "metadata": {},
   "outputs": [],
   "source": [
    "import setup\n"
   ]
  },
  {
   "cell_type": "code",
   "execution_count": 3,
   "id": "865e42e6-31cf-4388-9dc6-52643d911ce1",
   "metadata": {},
   "outputs": [],
   "source": [
    "setup.init_django()"
   ]
  },
  {
   "cell_type": "code",
   "execution_count": 4,
   "id": "e2314fe8-dbfe-4f39-94ec-63fb23ec038d",
   "metadata": {},
   "outputs": [],
   "source": [
    "from django.conf import settings\n"
   ]
  },
  {
   "cell_type": "code",
   "execution_count": 5,
   "id": "7f003fdb-cc5b-42d4-986d-b91fa526113f",
   "metadata": {},
   "outputs": [
    {
     "data": {
      "text/plain": [
       "PosixPath('/Users/akshatsharma/Pravaha/src')"
      ]
     },
     "execution_count": 5,
     "metadata": {},
     "output_type": "execute_result"
    }
   ],
   "source": [
    "settings.BASE_DIR\n"
   ]
  },
  {
   "cell_type": "code",
   "execution_count": null,
   "id": "9c15d4cf-6b5c-44a6-9a6b-356adc7c0a6b",
   "metadata": {},
   "outputs": [],
   "source": []
  }
 ],
 "metadata": {
  "kernelspec": {
   "display_name": "Python 3 (ipykernel)",
   "language": "python",
   "name": "python3"
  },
  "language_info": {
   "codemirror_mode": {
    "name": "ipython",
    "version": 3
   },
   "file_extension": ".py",
   "mimetype": "text/x-python",
   "name": "python",
   "nbconvert_exporter": "python",
   "pygments_lexer": "ipython3",
   "version": "3.12.3"
  }
 },
 "nbformat": 4,
 "nbformat_minor": 5
}
